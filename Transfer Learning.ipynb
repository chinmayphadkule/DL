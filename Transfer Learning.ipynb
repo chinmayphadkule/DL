{
 "cells": [
  {
   "cell_type": "code",
   "execution_count": 1,
   "id": "38757ad7",
   "metadata": {},
   "outputs": [],
   "source": [
    "# Import necessary libraries\n",
    "from tensorflow.keras.utils import load_img\n",
    "from tensorflow.keras.utils import img_to_array\n",
    "from keras.applications.vgg16 import preprocess_input\n",
    "from keras.applications.vgg16 import decode_predictions\n",
    "from keras.applications.vgg16 import VGG16"
   ]
  },
  {
   "cell_type": "code",
   "execution_count": 20,
   "id": "ae5f0683",
   "metadata": {},
   "outputs": [],
   "source": [
    "# Load an image from a file (e.g., 'dog.jpg') and resize it to the VGG16 input size of (224, 224)\n",
    "image = load_img('dog1.jpeg', target_size=(224, 224))"
   ]
  },
  {
   "cell_type": "code",
   "execution_count": 21,
   "id": "c995242a",
   "metadata": {},
   "outputs": [],
   "source": [
    "# Convert the image pixels to a NumPy array\n",
    "image = img_to_array(image)"
   ]
  },
  {
   "cell_type": "code",
   "execution_count": 22,
   "id": "13bc6d18",
   "metadata": {},
   "outputs": [],
   "source": [
    "# Reshape the data for the model (1 image with the appropriate dimensions)\n",
    "image = image.reshape((1, image.shape[0], image.shape[1], image.shape[2]))"
   ]
  },
  {
   "cell_type": "code",
   "execution_count": 23,
   "id": "6dda78d6",
   "metadata": {},
   "outputs": [],
   "source": [
    "# Prepare the image for the VGG model by preprocessing it\n",
    "image = preprocess_input(image)"
   ]
  },
  {
   "cell_type": "code",
   "execution_count": 24,
   "id": "3372f08c",
   "metadata": {},
   "outputs": [],
   "source": [
    "# Load the pre-trained VGG16 model\n",
    "model = VGG16()"
   ]
  },
  {
   "cell_type": "code",
   "execution_count": 25,
   "id": "af2c53d9",
   "metadata": {},
   "outputs": [
    {
     "name": "stdout",
     "output_type": "stream",
     "text": [
      "1/1 [==============================] - 0s 495ms/step\n"
     ]
    }
   ],
   "source": [
    "# Predict the probability across all output classes for the provided image\n",
    "yhat = model.predict(image)"
   ]
  },
  {
   "cell_type": "code",
   "execution_count": 26,
   "id": "1bd26151",
   "metadata": {},
   "outputs": [],
   "source": [
    "# Convert the probabilities to class labels using the ImageNet class labels\n",
    "label = decode_predictions(yhat)"
   ]
  },
  {
   "cell_type": "code",
   "execution_count": 27,
   "id": "e28b0a92",
   "metadata": {},
   "outputs": [],
   "source": [
    "# Retrieve the most likely result, which has the highest probability\n",
    "label = label[0][0]"
   ]
  },
  {
   "cell_type": "code",
   "execution_count": 28,
   "id": "6e5f03e6",
   "metadata": {},
   "outputs": [
    {
     "name": "stdout",
     "output_type": "stream",
     "text": [
      "Eskimo_dog (71.89%)\n"
     ]
    }
   ],
   "source": [
    "# Print the classification result, including the class label and its probability\n",
    "print('%s (%.2f%%)' % (label[1], label[2]*100))"
   ]
  },
  {
   "cell_type": "code",
   "execution_count": null,
   "id": "66366734",
   "metadata": {},
   "outputs": [],
   "source": []
  }
 ],
 "metadata": {
  "kernelspec": {
   "display_name": "Python 3 (ipykernel)",
   "language": "python",
   "name": "python3"
  },
  "language_info": {
   "codemirror_mode": {
    "name": "ipython",
    "version": 3
   },
   "file_extension": ".py",
   "mimetype": "text/x-python",
   "name": "python",
   "nbconvert_exporter": "python",
   "pygments_lexer": "ipython3",
   "version": "3.11.5"
  }
 },
 "nbformat": 4,
 "nbformat_minor": 5
}
